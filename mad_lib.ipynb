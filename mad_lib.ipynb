{
 "cells": [
  {
   "cell_type": "code",
   "execution_count": null,
   "metadata": {},
   "outputs": [],
   "source": [
    "import random\n",
    "\n",
    "stories = [\n",
    "    \"Once upon a time, a {adjective} {noun} decided to {verb} at the {place}. It was a sight to see!\",\n",
    "    \"The {adjective} {noun} always dreamed of {verb} at {place}, and one day, it finally happened!\",\n",
    "    \"In a {place}, a {adjective} {noun} was seen {verb}. People couldn't believe their eyes!\"\n",
    "]\n",
    "\n",
    "print(\"🎭 Welcome to the Mad Libs Game! 🎭\\n\")\n",
    "\n",
    "while True:\n",
    "    adjective = input(\"Enter an adjective: \")\n",
    "    noun = input(\"Enter a noun: \")\n",
    "    verb = input(\"Enter a verb: \")\n",
    "    place = input(\"Enter a place: \")\n",
    "\n",
    "    story = random.choice(stories).format(adjective=adjective, noun=noun, verb=verb, place=place)\n",
    "\n",
    "    print(\"\\nHere is your Mad Lib story:\\n\")\n",
    "    print(story)\n",
    "\n",
    "    play_again = input(\"\\nDo you want to play again? (yes/no): \").strip().lower()\n",
    "    if play_again not in [\"y\", \"yes\"]: \n",
    "            print(\"Thanks for playing! 🎉\")\n",
    "            break\n"
   ]
  },
  {
   "cell_type": "code",
   "execution_count": null,
   "metadata": {},
   "outputs": [
    {
     "name": "stderr",
     "output_type": "stream",
     "text": [
      "<>:1: SyntaxWarning: invalid escape sequence '\\/'\n",
      "<>:1: SyntaxWarning: invalid escape sequence '\\/'\n",
      "C:\\Users\\PC\\AppData\\Local\\Temp\\ipykernel_8780\\879970418.py:1: SyntaxWarning: invalid escape sequence '\\/'\n",
      "  asscii_art = \"\"\"\n"
     ]
    },
    {
     "name": "stdout",
     "output_type": "stream",
     "text": [
      "\n",
      "\n",
      "\n",
      "  __  __           _   _ _ _            ____                           \n",
      " |  \\/  | __ _  __| | | (_) |__  ___   / ___| __ _ _ __ ___   ___  ___ \n",
      " | |\\/| |/ _` |/ _` | | | | '_ \\/ __| | |  _ / _` | '_ ` _ \\ / _ \\/ __|\n",
      " | |  | | (_| | (_| | | | | |_) \\__ \\ | |_| | (_| | | | | | |  __/\\__  |_|  |_|\\__,_|\\__,_| |_|_|_.__/|___/  \\____|\\__,_|_| |_| |_|\\___||___/\n",
      "                                                                       \n",
      "\n",
      "\n",
      "Here is your Mad Lib story:\n",
      "\n",
      "Once upon a time, a h f decided to f at the f. It was a sight to see!\n",
      "Thanks for playing! 🎉\n"
     ]
    }
   ],
   "source": [
    "\n",
    "asscii_art = r\"\"\"\n",
    "\n",
    "\n",
    "  __  __           _   _ _ _            ____                           \n",
    " |  \\/  | __ _  __| | | (_) |__  ___   / ___| __ _ _ __ ___   ___  ___ \n",
    " | |\\/| |/ _` |/ _` | | | | '_ \\/ __| | |  _ / _` | '_ ` _ \\ / _ \\/ __|\n",
    " | |  | | (_| | (_| | | | | |_) \\__ \\ | |_| | (_| | | | | | |  __/\\__ \\\n",
    " |_|  |_|\\__,_|\\__,_| |_|_|_.__/|___/  \\____|\\__,_|_| |_| |_|\\___||___/\n",
    "                                                                      \n",
    "\n",
    "\"\"\"\n",
    "\n",
    "print(asscii_art)\n",
    "\n",
    "import random\n",
    "\n",
    "stories = [\n",
    "    \"Once upon a time, a {adjective} {noun} decided to {verb} at the {place}. It was a sight to see!\",\n",
    "    \"The {adjective} {noun} always dreamed of {verb} at {place}, and one day, it finally happened!\",\n",
    "    \"In a {place}, a {adjective} {noun} was seen {verb}. People couldn't believe their eyes!\",\n",
    "    \"A {adjective} {noun} found a magic lamp at the {place} and wished to {verb}.\",\n",
    "    \"The {noun} was feeling {adjective}, so it decided to {verb} at the {place}.\",\n",
    "    \"One day, a {adjective} {noun} discovered a secret way to {verb} at the {place}.\",\n",
    "    \"Legends say that a {adjective} {noun} used to {verb} at the {place} every night.\",\n",
    "    \"During a stormy night, a {adjective} {noun} appeared and started to {verb} at the {place}.\",\n",
    "    \"At the {place}, a {adjective} {noun} met a talking parrot that could {verb}!\",\n",
    "    \"A {adjective} {noun} traveled to the {place} to find the lost treasure but ended up {verb} instead!\"\n",
    "]\n",
    "\n",
    "\n",
    "while True:\n",
    "    adjective = input(\"Enter an adjective: \")\n",
    "    noun = input(\"Enter a noun: \")\n",
    "    verb = input(\"Enter a verb: \")\n",
    "    place = input(\"Enter a place: \")\n",
    "\n",
    "    story = random.choice(stories).format(adjective=adjective, noun=noun, verb=verb, place=place)\n",
    "\n",
    "    print(\"\\nHere is your Mad Lib story:\\n\")\n",
    "    print(story)\n",
    "\n",
    "    play_again = input(\"\\nDo you want to play again? (yes/no): \").strip().lower()\n",
    "    if play_again not in [\"y\", \"yes\"]: \n",
    "        print(\"Thanks for playing! 🎉\")\n",
    "        break\n"
   ]
  }
 ],
 "metadata": {
  "kernelspec": {
   "display_name": "Python 3",
   "language": "python",
   "name": "python3"
  },
  "language_info": {
   "codemirror_mode": {
    "name": "ipython",
    "version": 3
   },
   "file_extension": ".py",
   "mimetype": "text/x-python",
   "name": "python",
   "nbconvert_exporter": "python",
   "pygments_lexer": "ipython3",
   "version": "3.12.3"
  }
 },
 "nbformat": 4,
 "nbformat_minor": 2
}
