{
 "cells": [
  {
   "cell_type": "code",
   "execution_count": null,
   "metadata": {},
   "outputs": [],
   "source": [
    "import random\n",
    "\n",
    "stories = [\n",
    "    \"Once upon a time, a {adjective} {noun} decided to {verb} at the {place}. It was a sight to see!\",\n",
    "    \"The {adjective} {noun} always dreamed of {verb} at {place}, and one day, it finally happened!\",\n",
    "    \"In a {place}, a {adjective} {noun} was seen {verb}. People couldn't believe their eyes!\"\n",
    "]\n",
    "\n",
    "print(\"🎭 Welcome to the Mad Libs Game! 🎭\\n\")\n",
    "\n",
    "while True:\n",
    "    adjective = input(\"Enter an adjective: \")\n",
    "    noun = input(\"Enter a noun: \")\n",
    "    verb = input(\"Enter a verb: \")\n",
    "    place = input(\"Enter a place: \")\n",
    "\n",
    "    story = random.choice(stories).format(adjective=adjective, noun=noun, verb=verb, place=place)\n",
    "\n",
    "    print(\"\\nHere is your Mad Lib story:\\n\")\n",
    "    print(story)\n",
    "\n",
    "    play_again = input(\"\\nDo you want to play again? (yes/no): \").strip().lower()\n",
    "    if play_again not in [\"y\", \"yes\"]: \n",
    "            print(\"Thanks for playing! 🎉\")\n",
    "            break\n"
   ]
  }
 ],
 "metadata": {
  "language_info": {
   "name": "python"
  }
 },
 "nbformat": 4,
 "nbformat_minor": 2
}
