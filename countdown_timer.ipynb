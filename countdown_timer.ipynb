{
 "cells": [
  {
   "cell_type": "code",
   "execution_count": 2,
   "metadata": {},
   "outputs": [
    {
     "name": "stdout",
     "output_type": "stream",
     "text": [
      "00:01\n",
      "Time's up! ⏰\n"
     ]
    }
   ],
   "source": [
    "import time\n",
    "\n",
    "def countdown_timer(seconds):\n",
    "    while seconds:\n",
    "        mins, secs = divmod(seconds, 60)\n",
    "        timer = f\"{mins:02}:{secs:02}\"\n",
    "        print(timer, end=\"\\r\", flush=True)  \n",
    "        time.sleep(1)\n",
    "        seconds -= 1\n",
    "\n",
    "    print(\"\\nTime's up! ⏰\")  \n",
    "\n",
    "try:\n",
    "    seconds = int(input(\"Enter time in seconds: \"))\n",
    "    if seconds > 0:\n",
    "        countdown_timer(seconds)\n",
    "    else:\n",
    "        print(\"Please enter a positive number.\")\n",
    "except ValueError:\n",
    "    print(\"Invalid input! Please enter a valid number.\")\n"
   ]
  }
 ],
 "metadata": {
  "kernelspec": {
   "display_name": "Python 3",
   "language": "python",
   "name": "python3"
  },
  "language_info": {
   "codemirror_mode": {
    "name": "ipython",
    "version": 3
   },
   "file_extension": ".py",
   "mimetype": "text/x-python",
   "name": "python",
   "nbconvert_exporter": "python",
   "pygments_lexer": "ipython3",
   "version": "3.12.3"
  }
 },
 "nbformat": 4,
 "nbformat_minor": 2
}
